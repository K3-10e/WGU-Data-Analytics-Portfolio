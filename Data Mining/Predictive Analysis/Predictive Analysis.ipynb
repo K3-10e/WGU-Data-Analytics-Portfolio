{
 "cells": [
  {
   "cell_type": "markdown",
   "id": "5d4977ea",
   "metadata": {},
   "source": [
    "<style type=\"text/css\">\n",
    "    h1,h2,h3,h4{\n",
    "        margin-bottom: 0px;\n",
    "    }\n",
    "    p,ul{\n",
    "        margin-bottom: 20px;\n",
    "    }\n",
    "    h2{\n",
    "        margin-left: 10px;\n",
    "        margin-top: 15px;\n",
    "    }\n",
    "    h3{\n",
    "        margin-left: 20px;\n",
    "        margin-top: 10px;\n",
    "    }\n",
    "    h4{\n",
    "        margin-left: 30px;\n",
    "        margin-top: 10px;\n",
    "    }\n",
    "    p{\n",
    "        margin-left: 40px;\n",
    "        margin-top: 7px;\n",
    "    }\n",
    "    li{\n",
    "        margin-left: 40px;\n",
    "        margin-top: 5px;\n",
    "    }\n",
    "</style>\n",
    "\n",
    "<h1>Data Mining - Predictive Analysis</h1>"
   ]
  }
 ],
 "metadata": {
  "language_info": {
   "name": "python"
  }
 },
 "nbformat": 4,
 "nbformat_minor": 5
}
